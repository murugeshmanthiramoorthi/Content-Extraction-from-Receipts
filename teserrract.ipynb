{
  "nbformat": 4,
  "nbformat_minor": 0,
  "metadata": {
    "colab": {
      "name": "teserrract.ipynb",
      "provenance": [],
      "collapsed_sections": []
    },
    "kernelspec": {
      "name": "python3",
      "display_name": "Python 3"
    }
  },
  "cells": [
    {
      "cell_type": "code",
      "metadata": {
        "id": "mDg393xb0rvQ",
        "colab_type": "code",
        "colab": {}
      },
      "source": [
        "! sudo apt update"
      ],
      "execution_count": 0,
      "outputs": []
    },
    {
      "cell_type": "code",
      "metadata": {
        "id": "69ByFsp99OIC",
        "colab_type": "code",
        "colab": {}
      },
      "source": [
        "! sudo apt install tesseract-ocr"
      ],
      "execution_count": 0,
      "outputs": []
    },
    {
      "cell_type": "code",
      "metadata": {
        "id": "C2qwqHNH9UDt",
        "colab_type": "code",
        "colab": {}
      },
      "source": [
        "! sudo apt install libtesseract-dev"
      ],
      "execution_count": 0,
      "outputs": []
    },
    {
      "cell_type": "code",
      "metadata": {
        "id": "RZZyNx8t-wHr",
        "colab_type": "code",
        "colab": {}
      },
      "source": [
        "import cv2\n",
        "import matplotlib.pyplot as plt\n",
        "from PIL import Image"
      ],
      "execution_count": 0,
      "outputs": []
    },
    {
      "cell_type": "code",
      "metadata": {
        "id": "Zbg-WWuN-0xT",
        "colab_type": "code",
        "colab": {}
      },
      "source": [
        "image = cv2.imread(\"RECIEPT_200312120912650.ocr.bmp\")\n",
        "string = pytesseract.image_to_string(image)\n",
        "import re\n",
        "req = re.findall(r\"[A-Za-z].*?\\n\\n\\([0-9]\\s\\@\\s\\$[0-9]+\\.[0-9]+\\)\\s\\$[0-9]+\\.[0-9]+\", string)\n",
        "dictt = {}"
      ],
      "execution_count": 0,
      "outputs": []
    },
    {
      "cell_type": "code",
      "metadata": {
        "id": "ISstvCWFa_QE",
        "colab_type": "code",
        "outputId": "35c57e2b-d7fd-41e6-a5a7-8fae55978776",
        "colab": {
          "base_uri": "https://localhost:8080/",
          "height": 34
        }
      },
      "source": [
        "subtotal = re.findall(r\"SUBTOTAL\\s\\$[0-9]+\\,[0-9]+\\.[0-9]+\", string)\n",
        "print(subtotal)"
      ],
      "execution_count": 0,
      "outputs": [
        {
          "output_type": "stream",
          "text": [
            "['SUBTOTAL $7,037.65']\n"
          ],
          "name": "stdout"
        }
      ]
    },
    {
      "cell_type": "code",
      "metadata": {
        "id": "E7thPYASfmLc",
        "colab_type": "code",
        "outputId": "7615afea-0f14-4651-cf4c-bc2b4c67a00c",
        "colab": {
          "base_uri": "https://localhost:8080/",
          "height": 34
        }
      },
      "source": [
        "pattern = r\"SUBTOTAL\\s\\$[0-9]+\\,[0-9]+\\.[0-9]+\"\n",
        "for match in re.finditer(pattern, string):\n",
        "    s = match.start()\n",
        "    e = match.end()\n",
        "    subtotal = string[s:e]\n",
        "\n",
        "subs = re.findall(r\"\\$[0-9]+\\,[0-9]+\\.[0-9]+\", subtotal)\n",
        "subs1 = subs[0]\n",
        "type(subs)"
      ],
      "execution_count": 0,
      "outputs": [
        {
          "output_type": "execute_result",
          "data": {
            "text/plain": [
              "list"
            ]
          },
          "metadata": {
            "tags": []
          },
          "execution_count": 330
        }
      ]
    },
    {
      "cell_type": "code",
      "metadata": {
        "id": "ujI3F6Evgv0-",
        "colab_type": "code",
        "colab": {}
      },
      "source": [
        "pattern = r\"TOTAL\\s\\$[0-9]+\\,[0-9]+\\.[0-9]+\"\n",
        "for match in re.finditer(pattern, string):\n",
        "    s = match.start()\n",
        "    e = match.end()\n",
        "    total = string[s:e]\n",
        "\n",
        "tots = re.findall(r\"\\$[0-9]+\\,[0-9]+\\.[0-9]+\", total)\n",
        "tots = tots[0]"
      ],
      "execution_count": 0,
      "outputs": []
    },
    {
      "cell_type": "code",
      "metadata": {
        "id": "XXCFDdGUg5pZ",
        "colab_type": "code",
        "colab": {}
      },
      "source": [
        "pattern = r\"CASH\\s\\$[0-9]+\\,[0-9]+\\.[0-9]+\"\n",
        "for match in re.finditer(pattern, string):\n",
        "    s = match.start()\n",
        "    e = match.end()\n",
        "    cash = string[s:e]\n",
        "\n",
        "cass = re.findall(r\"\\$[0-9]+\\,[0-9]+\\.[0-9]+\", cash)\n",
        "cass = cass[0]"
      ],
      "execution_count": 0,
      "outputs": []
    },
    {
      "cell_type": "code",
      "metadata": {
        "id": "zkGKpuwLCyCt",
        "colab_type": "code",
        "colab": {}
      },
      "source": [
        "values = []\n",
        "products = []\n",
        "\n",
        "for re in req:\n",
        "  var=re.split(\"\\n\\n\")\n",
        "  products.append(var[0])\n",
        "  values.append(var[1])\n",
        "\n",
        "dictt[\"Products\"] = products"
      ],
      "execution_count": 0,
      "outputs": []
    },
    {
      "cell_type": "code",
      "metadata": {
        "id": "rqsswKp9k1VS",
        "colab_type": "code",
        "colab": {}
      },
      "source": [
        "import re\n",
        "bills = re.findall(r\"\\n\\n\\([0-9]\\s\\@\\s\\$[0-9]+\\.[0-9]+\\)\\s\\$[0-9]+\\.[0-9]+\", string)"
      ],
      "execution_count": 0,
      "outputs": []
    },
    {
      "cell_type": "code",
      "metadata": {
        "id": "Tgoh6pu2PvS4",
        "colab_type": "code",
        "colab": {}
      },
      "source": [
        "quantity=[]\n",
        "ind_price = []\n",
        "price = []\n",
        "\n",
        "for bill in bills:\n",
        "  entity=bill.split(\" \")\n",
        "  quantity.append(re.findall(r\"[0-9]\", entity[0]))\n",
        "  ind_price.append(re.findall(r\"[0-9]+\\.[0-9]+\", entity[2]))\n",
        "  price.append(re.findall(r\"[0-9]+\\.[0-9]+\", entity[3]))"
      ],
      "execution_count": 0,
      "outputs": []
    },
    {
      "cell_type": "code",
      "metadata": {
        "id": "KWJcEbGlVKD9",
        "colab_type": "code",
        "outputId": "ffc162bc-c0d9-44d2-8bf2-eb2c91cbf11d",
        "colab": {
          "base_uri": "https://localhost:8080/",
          "height": 521
        }
      },
      "source": [
        "ind_price"
      ],
      "execution_count": 0,
      "outputs": [
        {
          "output_type": "execute_result",
          "data": {
            "text/plain": [
              "[['98.00'],\n",
              " ['68.00'],\n",
              " ['36.69'],\n",
              " ['54.57'],\n",
              " ['56.55'],\n",
              " ['68.00'],\n",
              " ['45.45'],\n",
              " ['65.85'],\n",
              " ['55.88'],\n",
              " ['36.58'],\n",
              " ['35.00'],\n",
              " ['25.00'],\n",
              " ['1.50'],\n",
              " ['1.25'],\n",
              " ['36.55'],\n",
              " ['36.50'],\n",
              " ['35.85'],\n",
              " ['36.90'],\n",
              " ['65.00'],\n",
              " ['68.80'],\n",
              " ['55.88'],\n",
              " ['68.00'],\n",
              " ['65.00'],\n",
              " ['58.00'],\n",
              " ['68.00'],\n",
              " ['36.90'],\n",
              " ['35.80'],\n",
              " ['36.80'],\n",
              " ['44.45']]"
            ]
          },
          "metadata": {
            "tags": []
          },
          "execution_count": 336
        }
      ]
    },
    {
      "cell_type": "code",
      "metadata": {
        "colab_type": "code",
        "id": "ahWNMlX6QsZ4",
        "colab": {}
      },
      "source": [
        "final_quant = []\n",
        "for i in quantity:\n",
        "    for j in i:\n",
        "        final_quant.append(int(j))\n",
        "\n",
        "final_ind_price = []\n",
        "for x in ind_price:\n",
        "    for y in x:\n",
        "        final_ind_price.append(float(y))\n",
        "\n",
        "final_price = []\n",
        "for a in price:\n",
        "    for b in a:\n",
        "        final_price.append(float(b))\n",
        "\n",
        "dictt[\"Quantity\"] = final_quant\n",
        "dictt[\"Unit Price\"] = final_ind_price\n",
        "dictt[\"Price\"] = final_price"
      ],
      "execution_count": 0,
      "outputs": []
    },
    {
      "cell_type": "code",
      "metadata": {
        "id": "oIs4TF2jQstp",
        "colab_type": "code",
        "outputId": "271a8505-237e-4f7e-82e8-5cd961004c4f",
        "colab": {
          "base_uri": "https://localhost:8080/",
          "height": 86
        }
      },
      "source": [
        "print(len(products))\n",
        "print(len(final_price))\n",
        "print(len(final_quant))\n",
        "print(len(final_ind_price))"
      ],
      "execution_count": 0,
      "outputs": [
        {
          "output_type": "stream",
          "text": [
            "29\n",
            "29\n",
            "29\n",
            "29\n"
          ],
          "name": "stdout"
        }
      ]
    },
    {
      "cell_type": "code",
      "metadata": {
        "id": "W8V5E2tMw_Hr",
        "colab_type": "code",
        "colab": {}
      },
      "source": [
        "dictt[\"Subtotal\"] = subs\n",
        "dictt[\"Total\"] = tots\n",
        "dictt[\"cash\"] = cass"
      ],
      "execution_count": 0,
      "outputs": []
    },
    {
      "cell_type": "code",
      "metadata": {
        "id": "HIFYdgdThMeP",
        "colab_type": "code",
        "colab": {}
      },
      "source": [
        "import json\n",
        "\n",
        "dictt = json.dumps(dictt)\n",
        "bill_json = json.loads(dictt)"
      ],
      "execution_count": 0,
      "outputs": []
    },
    {
      "cell_type": "code",
      "metadata": {
        "id": "ersUg4CWx8xY",
        "colab_type": "code",
        "colab": {}
      },
      "source": [
        "with open('data.json', 'w') as outfile:\n",
        "    json.dump(dictt, outfile)"
      ],
      "execution_count": 0,
      "outputs": []
    },
    {
      "cell_type": "code",
      "metadata": {
        "id": "Zx6IadGYRh_n",
        "colab_type": "code",
        "outputId": "f8781b90-9f2b-4a8d-a0ed-e9d311f17155",
        "colab": {
          "base_uri": "https://localhost:8080/",
          "height": 959
        }
      },
      "source": [
        "import pandas as pd\n",
        "df = pd.DataFrame(dictt)\n",
        "df.head(29)"
      ],
      "execution_count": 0,
      "outputs": [
        {
          "output_type": "execute_result",
          "data": {
            "text/html": [
              "<div>\n",
              "<style scoped>\n",
              "    .dataframe tbody tr th:only-of-type {\n",
              "        vertical-align: middle;\n",
              "    }\n",
              "\n",
              "    .dataframe tbody tr th {\n",
              "        vertical-align: top;\n",
              "    }\n",
              "\n",
              "    .dataframe thead th {\n",
              "        text-align: right;\n",
              "    }\n",
              "</style>\n",
              "<table border=\"1\" class=\"dataframe\">\n",
              "  <thead>\n",
              "    <tr style=\"text-align: right;\">\n",
              "      <th></th>\n",
              "      <th>Products</th>\n",
              "      <th>Quantity</th>\n",
              "      <th>Unit Price</th>\n",
              "      <th>Price</th>\n",
              "    </tr>\n",
              "  </thead>\n",
              "  <tbody>\n",
              "    <tr>\n",
              "      <th>0</th>\n",
              "      <td>Veirdo@@ half sleeve @@</td>\n",
              "      <td>4</td>\n",
              "      <td>98.00</td>\n",
              "      <td>392.00</td>\n",
              "    </tr>\n",
              "    <tr>\n",
              "      <th>1</th>\n",
              "      <td>Veirdo. @ full sleeve tshirt</td>\n",
              "      <td>3</td>\n",
              "      <td>68.00</td>\n",
              "      <td>204.00</td>\n",
              "    </tr>\n",
              "    <tr>\n",
              "      <th>2</th>\n",
              "      <td>Us polo sleeve tshirt medi7m</td>\n",
              "      <td>3</td>\n",
              "      <td>36.69</td>\n",
              "      <td>110.07</td>\n",
              "    </tr>\n",
              "    <tr>\n",
              "      <th>3</th>\n",
              "      <td>Us polo black full sleeves</td>\n",
              "      <td>3</td>\n",
              "      <td>54.57</td>\n",
              "      <td>163.71</td>\n",
              "    </tr>\n",
              "    <tr>\n",
              "      <th>4</th>\n",
              "      <td>let Bi Mere) ieee)</td>\n",
              "      <td>3</td>\n",
              "      <td>56.55</td>\n",
              "      <td>169.65</td>\n",
              "    </tr>\n",
              "    <tr>\n",
              "      <th>5</th>\n",
              "      <td>UCB tshirt blue</td>\n",
              "      <td>3</td>\n",
              "      <td>68.00</td>\n",
              "      <td>204.00</td>\n",
              "    </tr>\n",
              "    <tr>\n",
              "      <th>6</th>\n",
              "      <td>UCB tshirtsd</td>\n",
              "      <td>3</td>\n",
              "      <td>45.45</td>\n",
              "      <td>136.35</td>\n",
              "    </tr>\n",
              "    <tr>\n",
              "      <th>7</th>\n",
              "      <td>Tshirts 1</td>\n",
              "      <td>3</td>\n",
              "      <td>65.85</td>\n",
              "      <td>197.55</td>\n",
              "    </tr>\n",
              "    <tr>\n",
              "      <th>8</th>\n",
              "      <td>Test tshirt</td>\n",
              "      <td>3</td>\n",
              "      <td>55.88</td>\n",
              "      <td>167.64</td>\n",
              "    </tr>\n",
              "    <tr>\n",
              "      <th>9</th>\n",
              "      <td>Test product f</td>\n",
              "      <td>3</td>\n",
              "      <td>36.58</td>\n",
              "      <td>109.74</td>\n",
              "    </tr>\n",
              "    <tr>\n",
              "      <th>10</th>\n",
              "      <td>Solid pol neck tshirt</td>\n",
              "      <td>3</td>\n",
              "      <td>35.00</td>\n",
              "      <td>105.00</td>\n",
              "    </tr>\n",
              "    <tr>\n",
              "      <th>11</th>\n",
              "      <td>Solid men tshirt</td>\n",
              "      <td>2</td>\n",
              "      <td>25.00</td>\n",
              "      <td>50.00</td>\n",
              "    </tr>\n",
              "    <tr>\n",
              "      <th>12</th>\n",
              "      <td>Spendgo Collapsible Frisbee</td>\n",
              "      <td>3</td>\n",
              "      <td>1.50</td>\n",
              "      <td>4.50</td>\n",
              "    </tr>\n",
              "    <tr>\n",
              "      <th>13</th>\n",
              "      <td>Spendgo Ballpoint Pen</td>\n",
              "      <td>3</td>\n",
              "      <td>1.25</td>\n",
              "      <td>3.75</td>\n",
              "    </tr>\n",
              "    <tr>\n",
              "      <th>14</th>\n",
              "      <td>edie Rte oar)</td>\n",
              "      <td>3</td>\n",
              "      <td>36.55</td>\n",
              "      <td>109.65</td>\n",
              "    </tr>\n",
              "    <tr>\n",
              "      <th>15</th>\n",
              "      <td>Sleeves men tshirt</td>\n",
              "      <td>2</td>\n",
              "      <td>36.50</td>\n",
              "      <td>73.00</td>\n",
              "    </tr>\n",
              "    <tr>\n",
              "      <th>16</th>\n",
              "      <td>Solid polo neck</td>\n",
              "      <td>3</td>\n",
              "      <td>35.85</td>\n",
              "      <td>107.55</td>\n",
              "    </tr>\n",
              "    <tr>\n",
              "      <th>17</th>\n",
              "      <td>Jeans us polo</td>\n",
              "      <td>2</td>\n",
              "      <td>36.90</td>\n",
              "      <td>73.80</td>\n",
              "    </tr>\n",
              "    <tr>\n",
              "      <th>18</th>\n",
              "      <td>Graphic print</td>\n",
              "      <td>3</td>\n",
              "      <td>65.00</td>\n",
              "      <td>195.00</td>\n",
              "    </tr>\n",
              "    <tr>\n",
              "      <th>19</th>\n",
              "      <td>Half sleeve tshirt black large</td>\n",
              "      <td>3</td>\n",
              "      <td>68.80</td>\n",
              "      <td>206.40</td>\n",
              "    </tr>\n",
              "    <tr>\n",
              "      <th>20</th>\n",
              "      <td>WET om alee</td>\n",
              "      <td>2</td>\n",
              "      <td>55.88</td>\n",
              "      <td>111.76</td>\n",
              "    </tr>\n",
              "    <tr>\n",
              "      <th>21</th>\n",
              "      <td>Kilt men’s tshirt</td>\n",
              "      <td>2</td>\n",
              "      <td>68.00</td>\n",
              "      <td>136.00</td>\n",
              "    </tr>\n",
              "    <tr>\n",
              "      <th>22</th>\n",
              "      <td>Graphic print</td>\n",
              "      <td>3</td>\n",
              "      <td>65.00</td>\n",
              "      <td>195.00</td>\n",
              "    </tr>\n",
              "    <tr>\n",
              "      <th>23</th>\n",
              "      <td>Fenoix tshirts</td>\n",
              "      <td>3</td>\n",
              "      <td>58.00</td>\n",
              "      <td>174.00</td>\n",
              "    </tr>\n",
              "    <tr>\n",
              "      <th>24</th>\n",
              "      <td>Half sleeve blue shirt small</td>\n",
              "      <td>3</td>\n",
              "      <td>68.00</td>\n",
              "      <td>204.00</td>\n",
              "    </tr>\n",
              "    <tr>\n",
              "      <th>25</th>\n",
              "      <td>Allen dolly tshirt black</td>\n",
              "      <td>2</td>\n",
              "      <td>36.90</td>\n",
              "      <td>73.80</td>\n",
              "    </tr>\n",
              "    <tr>\n",
              "      <th>26</th>\n",
              "      <td>Cord icelme) ls eas</td>\n",
              "      <td>2</td>\n",
              "      <td>35.80</td>\n",
              "      <td>71.60</td>\n",
              "    </tr>\n",
              "    <tr>\n",
              "      <th>27</th>\n",
              "      <td>Pe maa</td>\n",
              "      <td>3</td>\n",
              "      <td>36.80</td>\n",
              "      <td>110.40</td>\n",
              "    </tr>\n",
              "    <tr>\n",
              "      <th>28</th>\n",
              "      <td>PAC IpemaCoy</td>\n",
              "      <td>2</td>\n",
              "      <td>44.45</td>\n",
              "      <td>88.90</td>\n",
              "    </tr>\n",
              "  </tbody>\n",
              "</table>\n",
              "</div>"
            ],
            "text/plain": [
              "                          Products  Quantity  Unit Price   Price\n",
              "0          Veirdo@@ half sleeve @@         4       98.00  392.00\n",
              "1     Veirdo. @ full sleeve tshirt         3       68.00  204.00\n",
              "2     Us polo sleeve tshirt medi7m         3       36.69  110.07\n",
              "3       Us polo black full sleeves         3       54.57  163.71\n",
              "4               let Bi Mere) ieee)         3       56.55  169.65\n",
              "5                  UCB tshirt blue         3       68.00  204.00\n",
              "6                     UCB tshirtsd         3       45.45  136.35\n",
              "7                        Tshirts 1         3       65.85  197.55\n",
              "8                      Test tshirt         3       55.88  167.64\n",
              "9                   Test product f         3       36.58  109.74\n",
              "10           Solid pol neck tshirt         3       35.00  105.00\n",
              "11                Solid men tshirt         2       25.00   50.00\n",
              "12     Spendgo Collapsible Frisbee         3        1.50    4.50\n",
              "13           Spendgo Ballpoint Pen         3        1.25    3.75\n",
              "14                   edie Rte oar)         3       36.55  109.65\n",
              "15              Sleeves men tshirt         2       36.50   73.00\n",
              "16                 Solid polo neck         3       35.85  107.55\n",
              "17                   Jeans us polo         2       36.90   73.80\n",
              "18                   Graphic print         3       65.00  195.00\n",
              "19  Half sleeve tshirt black large         3       68.80  206.40\n",
              "20                     WET om alee         2       55.88  111.76\n",
              "21               Kilt men’s tshirt         2       68.00  136.00\n",
              "22                   Graphic print         3       65.00  195.00\n",
              "23                  Fenoix tshirts         3       58.00  174.00\n",
              "24    Half sleeve blue shirt small         3       68.00  204.00\n",
              "25        Allen dolly tshirt black         2       36.90   73.80\n",
              "26             Cord icelme) ls eas         2       35.80   71.60\n",
              "27                          Pe maa         3       36.80  110.40\n",
              "28                    PAC IpemaCoy         2       44.45   88.90"
            ]
          },
          "metadata": {
            "tags": []
          },
          "execution_count": 286
        }
      ]
    },
    {
      "cell_type": "code",
      "metadata": {
        "id": "_4D_joetUENK",
        "colab_type": "code",
        "outputId": "1d7694b1-2976-462d-ed1c-0878e39c5eae",
        "colab": {
          "base_uri": "https://localhost:8080/",
          "height": 69
        }
      },
      "source": [
        "print(subtotal)\n",
        "print(total)\n",
        "print(cash)"
      ],
      "execution_count": 0,
      "outputs": [
        {
          "output_type": "stream",
          "text": [
            "SUBTOTAL $7,037.65\n",
            "TOTAL $7,635.85\n",
            "CASH $7,635.85\n"
          ],
          "name": "stdout"
        }
      ]
    },
    {
      "cell_type": "code",
      "metadata": {
        "id": "wrsO92pwyYb4",
        "colab_type": "code",
        "colab": {}
      },
      "source": [
        ""
      ],
      "execution_count": 0,
      "outputs": []
    }
  ]
}